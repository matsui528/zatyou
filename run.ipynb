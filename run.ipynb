{
 "cells": [
  {
   "cell_type": "code",
   "execution_count": 1,
   "id": "bb93e9a5",
   "metadata": {},
   "outputs": [
    {
     "name": "stdout",
     "output_type": "stream",
     "text": [
      "input:\n",
      "      sato [0. 0. 1. 1. 0.]\n",
      "    suzuki [1. 1. 0. 1. 0.]\n",
      "      kato [0. 0. 0. 1. 0.]\n",
      "    tanaka [1. 1. 1. 0. 1.]\n",
      "       ito [1. 0. 0. 1. 1.]\n",
      "assignment:\n",
      "      sato [0. 0. 1. 0. 0.]\n",
      "    suzuki [1. 0. 0. 0. 0.]\n",
      "      kato [0. 0. 0. 1. 0.]\n",
      "    tanaka [0. 1. 0. 0. 0.]\n",
      "       ito [0. 0. 0. 0. 1.]\n"
     ]
    }
   ],
   "source": [
    "%run assign.py cost.csv"
   ]
  }
 ],
 "metadata": {
  "kernelspec": {
   "display_name": "Python 3 (ipykernel)",
   "language": "python",
   "name": "python3"
  },
  "language_info": {
   "codemirror_mode": {
    "name": "ipython",
    "version": 3
   },
   "file_extension": ".py",
   "mimetype": "text/x-python",
   "name": "python",
   "nbconvert_exporter": "python",
   "pygments_lexer": "ipython3",
   "version": "3.7.11"
  }
 },
 "nbformat": 4,
 "nbformat_minor": 5
}
